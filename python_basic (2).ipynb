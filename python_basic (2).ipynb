{
  "nbformat": 4,
  "nbformat_minor": 0,
  "metadata": {
    "colab": {
      "provenance": []
    },
    "kernelspec": {
      "name": "python3",
      "display_name": "Python 3"
    },
    "language_info": {
      "name": "python"
    }
  },
  "cells": [
    {
      "cell_type": "code",
      "execution_count": null,
      "metadata": {
        "id": "SJ4fuvWmHlL0"
      },
      "outputs": [],
      "source": [
        "# Python Basic"
      ]
    },
    {
      "cell_type": "markdown",
      "source": [
        "1. What is Python, and why is it popular?\n",
        "\n",
        " - Python is a high-level, interpreted programming language known for its simplicity, readability, and versatility.\n",
        "\n",
        "2.  What is an interpreter in Python?\n",
        "  - An interpreter executes Python code line by line, allowing for immediate execution and debugging without compilation.\n",
        "\n",
        "3. What are pre-defined keywords in Python?\n",
        "  - Control Flow (if, else, for, while),Data Types (int, float, str, list)\n",
        ",Boolean(True, False, None),Functions (def, return, lambda),Exception Handling (try, except, raise).\n",
        "\n",
        "4. Can keywords be used as variable names?\n",
        "  - No, keywords cannot be used as variable names because they have predefined meanings in Python.\n",
        "\n",
        "5. What is mutability in Python?\n",
        "  - Mutability refers to whether an object can be changed after creation.\n",
        "  Mutable objects: Can be modified (list, dict, set).\n",
        "  Immutable objects: Cannot be modified (int, float, tuple, str).\n",
        "\n",
        "6.  Why are lists mutable, but tuples are immutable?\n",
        "  - Lists are mutable to allow modifications like adding or removing elements.\n",
        "\n",
        "  Tuples are immutable for data integrity and performance optimization (faster than lists).\n",
        "\n",
        "7. Difference between == and is operators in Python?\n",
        "  - Equality Operator \"==\" Checks if values are the same and Identity Operator \"is\" checks if two variables refer to the same memory location.\n",
        "\n",
        "8. What are logical operators in Python?\n",
        "  - Logical operators are used to combine conditions:\n",
        "\n",
        "  and: Returns True if both conditions are True.\n",
        "  or: Returns True if at least one condition is True.\n",
        "  not: Negates a condition.\n",
        "\n",
        "9. What is type casting in Python?\n",
        "  - Type casting converts a variable from one type to another.\n",
        "  eg: x = \"100\"\n",
        "  y = int(x)  # Converts string to integer\n",
        "  print(type(y))  # int\n",
        "\n",
        "10. Difference between implicit and explicit type casting?\n",
        "  - Implicit (Automatic Conversion): Done by Python when safe.\n",
        "  Explicit (Manual Conversion): Done by programmer using functions like int(), float(), str().\n",
        "\n",
        "11. Purpose of conditional statements in Python?\n",
        "  - Conditional statements help in decision-making by executing different blocks of code based on conditions.\n",
        "  a = 18\n",
        "if a >= 18:\n",
        "    print(\"a is more than 18.\")\n",
        "else:\n",
        "    print(\"a is less than 18.\")\n",
        "\n",
        "12. How does the elif statement work?\n",
        "  - The elif statement is used when multiple conditions need to be checked sequentially.\n",
        "\n",
        "13. Difference between for and while loops?\n",
        "  - for loop- Used when the number of iterations is known.\n",
        "  while loop- Used when iterations depend on a condition.\n",
        "\n",
        "14. When is a while loop better than a for loop?\n",
        "  - A while loop is better when the number of iterations is unknown and based on a condition.\n",
        "\n"
      ],
      "metadata": {
        "id": "2Cjui0GIKpHi"
      }
    },
    {
      "cell_type": "code",
      "source": [
        "# Practical QUestions"
      ],
      "metadata": {
        "id": "vjBJIauZY1ZA"
      },
      "execution_count": null,
      "outputs": []
    },
    {
      "cell_type": "markdown",
      "source": [
        "# Write a Python program to print \"Hello, World!\"."
      ],
      "metadata": {
        "id": "6I8RBgijZBHj"
      }
    },
    {
      "cell_type": "code",
      "source": [
        "print(\"Hello, World!\")"
      ],
      "metadata": {
        "colab": {
          "base_uri": "https://localhost:8080/"
        },
        "id": "-yjVV-J8Y8RD",
        "outputId": "bd893dfa-6713-4124-d6f3-58c62faef24f"
      },
      "execution_count": null,
      "outputs": [
        {
          "output_type": "stream",
          "name": "stdout",
          "text": [
            "Hello, World!\n"
          ]
        }
      ]
    },
    {
      "cell_type": "markdown",
      "source": [
        "2. Write a Python program that displays your name and age."
      ],
      "metadata": {
        "id": "ODhm0eR6ZfoG"
      }
    },
    {
      "cell_type": "code",
      "source": [
        "name = \"Bharti\"\n",
        "age = 26\n",
        "print(f\"my name is {name} and i am {age} old.\")"
      ],
      "metadata": {
        "colab": {
          "base_uri": "https://localhost:8080/"
        },
        "id": "oXqyxBuIaUx3",
        "outputId": "9f04382a-61ca-4f73-cab1-e514302d3260"
      },
      "execution_count": null,
      "outputs": [
        {
          "output_type": "stream",
          "name": "stdout",
          "text": [
            "my name is Bharti and i am 26 old.\n"
          ]
        }
      ]
    },
    {
      "cell_type": "markdown",
      "source": [
        "3. Write code to print all the pre-defined keywords in Python using the keyword library."
      ],
      "metadata": {
        "id": "VPMOFyUKa_Wb"
      }
    },
    {
      "cell_type": "code",
      "source": [
        "import keyword\n",
        "print(keyword.kwlist)"
      ],
      "metadata": {
        "colab": {
          "base_uri": "https://localhost:8080/"
        },
        "id": "50N1ZNWlbErI",
        "outputId": "321d67a9-4c4d-429a-f145-72725f73a9c0"
      },
      "execution_count": null,
      "outputs": [
        {
          "output_type": "stream",
          "name": "stdout",
          "text": [
            "['False', 'None', 'True', 'and', 'as', 'assert', 'async', 'await', 'break', 'class', 'continue', 'def', 'del', 'elif', 'else', 'except', 'finally', 'for', 'from', 'global', 'if', 'import', 'in', 'is', 'lambda', 'nonlocal', 'not', 'or', 'pass', 'raise', 'return', 'try', 'while', 'with', 'yield']\n"
          ]
        }
      ]
    },
    {
      "cell_type": "markdown",
      "source": [
        "4. Write a program that checks if a given word is a Python keyword"
      ],
      "metadata": {
        "id": "45mq857UbU1k"
      }
    },
    {
      "cell_type": "code",
      "source": [
        "import keyword\n",
        "\n",
        "word = \"bharti\"\n",
        "if keyword.iskeyword(word):\n",
        "        print(\" is python keyword\")\n",
        "else:\n",
        "        print(\" is not python keyword\")\n",
        "\n"
      ],
      "metadata": {
        "colab": {
          "base_uri": "https://localhost:8080/"
        },
        "id": "XVaf6jEsd3iY",
        "outputId": "4b6ed746-c207-499a-9035-1937d0525481"
      },
      "execution_count": null,
      "outputs": [
        {
          "output_type": "stream",
          "name": "stdout",
          "text": [
            " is not python keyword\n"
          ]
        }
      ]
    },
    {
      "cell_type": "markdown",
      "source": [
        "5. Create a list and tuple in Python, and demonstrate how attempting to change an element works differently\n",
        "for each."
      ],
      "metadata": {
        "id": "lzmoKPtVgfbp"
      }
    },
    {
      "cell_type": "code",
      "source": [
        "\n",
        "my_list = [1, 2, 3]\n",
        "my_list[0] = 10  # Modifying an element\n",
        "print(\"Modified List:\", my_list)\n",
        "\n",
        "# Tuple (Immutable)\n",
        "my_tuple = (4, 7, 6)\n",
        "try:\n",
        "    my_tuple[0] = 10  # Attempting to modify a tuple\n",
        "except TypeError as e:\n",
        "    print(\"Error:\", e)\n"
      ],
      "metadata": {
        "colab": {
          "base_uri": "https://localhost:8080/"
        },
        "id": "g4yrrtr3hXyl",
        "outputId": "ce2f6a8f-8222-4df7-ec85-479b10a871da"
      },
      "execution_count": null,
      "outputs": [
        {
          "output_type": "stream",
          "name": "stdout",
          "text": [
            "Modified List: [10, 2, 3]\n",
            "Error: 'tuple' object does not support item assignment\n"
          ]
        }
      ]
    },
    {
      "cell_type": "code",
      "source": [
        "# 6-Write a function to demonstrate the behavior of mutable and immutable arguments."
      ],
      "metadata": {
        "id": "eVBueT3pjlgz"
      },
      "execution_count": null,
      "outputs": []
    },
    {
      "cell_type": "markdown",
      "source": [],
      "metadata": {
        "id": "UFkezagat4l9"
      }
    },
    {
      "cell_type": "code",
      "source": [
        "# Mutability and Immutability\n",
        "# Mutability: Mutable objects are objects whose value can be changed after creation.\n",
        "# Immutability: Immutable objects are objects whose value cannot be changed after creation.\n",
        "\n",
        "l = [10, -4, 23, 5, 0]\n",
        "print(l)\n",
        "print(type(l))\n",
        "\n",
        "# [10, -4, 23, 5, 0]\n",
        "#   0   1   2  3  4\n",
        "\n",
        "# Accessing the elements of the list\n",
        "print(l[0]) # 10\n",
        "print(l[1]) # -4\n",
        "print(l[4]) # 0\n",
        "\n",
        "l[0] = \"Darshan\"\n",
        "print(l)\n",
        "# Because, I can change the value of the list, we say that list is mutable.\n",
        "# Mutable means Flexible i.e. I can change the value of the list.\n",
        "\n",
        "\n",
        "\n",
        "\n",
        "s = \"BHARTI\"\n",
        "print(s)\n",
        "print(type(s))\n",
        "\n",
        "# B H A R T I\n",
        "# 0 1 2 3 4 5\n",
        "\n",
        "# Accessing the elements of the string\n",
        "print(s[0]) # B\n",
        "print(s[1]) # H\n",
        "\n",
        "s[0] = \"F\"\n",
        "print(s)\n",
        "# Because, I cannot change the value of the string, we say that string is immutable.\n",
        "# Immutable means Rigid i.e. I cannot change the value of the string."
      ],
      "metadata": {
        "id": "eXEuiXMEt1tt",
        "colab": {
          "base_uri": "https://localhost:8080/",
          "height": 384
        },
        "outputId": "5a969aa8-aa5b-43f6-e907-5b61e2ef6e19"
      },
      "execution_count": 1,
      "outputs": [
        {
          "output_type": "stream",
          "name": "stdout",
          "text": [
            "[10, -4, 23, 5, 0]\n",
            "<class 'list'>\n",
            "10\n",
            "-4\n",
            "0\n",
            "['Darshan', -4, 23, 5, 0]\n",
            "BHARTI\n",
            "<class 'str'>\n",
            "B\n",
            "H\n"
          ]
        },
        {
          "output_type": "error",
          "ename": "TypeError",
          "evalue": "'str' object does not support item assignment",
          "traceback": [
            "\u001b[0;31m---------------------------------------------------------------------------\u001b[0m",
            "\u001b[0;31mTypeError\u001b[0m                                 Traceback (most recent call last)",
            "\u001b[0;32m<ipython-input-1-b36575b8efdf>\u001b[0m in \u001b[0;36m<cell line: 0>\u001b[0;34m()\u001b[0m\n\u001b[1;32m     34\u001b[0m \u001b[0mprint\u001b[0m\u001b[0;34m(\u001b[0m\u001b[0ms\u001b[0m\u001b[0;34m[\u001b[0m\u001b[0;36m1\u001b[0m\u001b[0;34m]\u001b[0m\u001b[0;34m)\u001b[0m \u001b[0;31m# H\u001b[0m\u001b[0;34m\u001b[0m\u001b[0;34m\u001b[0m\u001b[0m\n\u001b[1;32m     35\u001b[0m \u001b[0;34m\u001b[0m\u001b[0m\n\u001b[0;32m---> 36\u001b[0;31m \u001b[0ms\u001b[0m\u001b[0;34m[\u001b[0m\u001b[0;36m0\u001b[0m\u001b[0;34m]\u001b[0m \u001b[0;34m=\u001b[0m \u001b[0;34m\"F\"\u001b[0m\u001b[0;34m\u001b[0m\u001b[0;34m\u001b[0m\u001b[0m\n\u001b[0m\u001b[1;32m     37\u001b[0m \u001b[0mprint\u001b[0m\u001b[0;34m(\u001b[0m\u001b[0ms\u001b[0m\u001b[0;34m)\u001b[0m\u001b[0;34m\u001b[0m\u001b[0;34m\u001b[0m\u001b[0m\n\u001b[1;32m     38\u001b[0m \u001b[0;31m# Because, I cannot change the value of the string, we say that string is immutable.\u001b[0m\u001b[0;34m\u001b[0m\u001b[0;34m\u001b[0m\u001b[0m\n",
            "\u001b[0;31mTypeError\u001b[0m: 'str' object does not support item assignment"
          ]
        }
      ]
    },
    {
      "cell_type": "markdown",
      "source": [
        "7. Write a function to demonstrate the behavior of mutable and immutable arguments."
      ],
      "metadata": {
        "id": "xQ2rZmvyHej9"
      }
    },
    {
      "cell_type": "code",
      "source": [
        "# Mutability or Immutable: This property is only applicable to the data structures like list, tuple, set, dictionary, string.\n",
        "# List is mutable, String is immutable.\n",
        "# Mutable means Flexible i.e. I can change the value of the list.\n",
        "# Immutable means Rigid i.e. I cannot change the value of the string.\n",
        "\n",
        "\n",
        "l = [10, -4, 23, 5, 0]\n",
        "print(l)\n",
        "print(type(l))\n",
        "\n",
        "# [10, -4, 23, 5, 0]\n",
        "#   0   1   2  3  4\n",
        "\n",
        "# Accessing the elements of the list\n",
        "print(l[0]) # 10\n",
        "print(l[1]) # -4\n",
        "print(l[4]) # 0\n",
        "\n",
        "l[0] = \"Darshan\"\n",
        "print(l)\n",
        "# Because, I can change the value of the list, we say that list is mutable.\n",
        "# Mutable means Flexible i.e. I can change the value of the list.\n",
        "\n",
        "\n",
        "\n",
        "\n",
        "s = \"BHARTI\"\n",
        "print(s)\n",
        "print(type(s))\n",
        "\n",
        "# B H A R T I\n",
        "# 0 1 2 3 4 5\n",
        "\n",
        "# Accessing the elements of the string\n",
        "print(s[0]) # B\n",
        "print(s[1]) # H\n",
        "\n",
        "s[0] = \"F\"\n",
        "print(s)\n",
        "\n"
      ],
      "metadata": {
        "id": "wXsuDUeWHhlu",
        "colab": {
          "base_uri": "https://localhost:8080/",
          "height": 384
        },
        "outputId": "eeccb6e0-7677-47ff-a3d2-211b61f148e8"
      },
      "execution_count": 2,
      "outputs": [
        {
          "output_type": "stream",
          "name": "stdout",
          "text": [
            "[10, -4, 23, 5, 0]\n",
            "<class 'list'>\n",
            "10\n",
            "-4\n",
            "0\n",
            "['Darshan', -4, 23, 5, 0]\n",
            "BHARTI\n",
            "<class 'str'>\n",
            "B\n",
            "H\n"
          ]
        },
        {
          "output_type": "error",
          "ename": "TypeError",
          "evalue": "'str' object does not support item assignment",
          "traceback": [
            "\u001b[0;31m---------------------------------------------------------------------------\u001b[0m",
            "\u001b[0;31mTypeError\u001b[0m                                 Traceback (most recent call last)",
            "\u001b[0;32m<ipython-input-2-ecb7c056a0f6>\u001b[0m in \u001b[0;36m<cell line: 0>\u001b[0;34m()\u001b[0m\n\u001b[1;32m     36\u001b[0m \u001b[0mprint\u001b[0m\u001b[0;34m(\u001b[0m\u001b[0ms\u001b[0m\u001b[0;34m[\u001b[0m\u001b[0;36m1\u001b[0m\u001b[0;34m]\u001b[0m\u001b[0;34m)\u001b[0m \u001b[0;31m# H\u001b[0m\u001b[0;34m\u001b[0m\u001b[0;34m\u001b[0m\u001b[0m\n\u001b[1;32m     37\u001b[0m \u001b[0;34m\u001b[0m\u001b[0m\n\u001b[0;32m---> 38\u001b[0;31m \u001b[0ms\u001b[0m\u001b[0;34m[\u001b[0m\u001b[0;36m0\u001b[0m\u001b[0;34m]\u001b[0m \u001b[0;34m=\u001b[0m \u001b[0;34m\"F\"\u001b[0m\u001b[0;34m\u001b[0m\u001b[0;34m\u001b[0m\u001b[0m\n\u001b[0m\u001b[1;32m     39\u001b[0m \u001b[0mprint\u001b[0m\u001b[0;34m(\u001b[0m\u001b[0ms\u001b[0m\u001b[0;34m)\u001b[0m\u001b[0;34m\u001b[0m\u001b[0;34m\u001b[0m\u001b[0m\n\u001b[1;32m     40\u001b[0m \u001b[0;34m\u001b[0m\u001b[0m\n",
            "\u001b[0;31mTypeError\u001b[0m: 'str' object does not support item assignment"
          ]
        }
      ]
    },
    {
      "cell_type": "markdown",
      "source": [
        "8.  Write a program to demonstrate the use of logical operators."
      ],
      "metadata": {
        "id": "aiL5MH89Hj00"
      }
    },
    {
      "cell_type": "code",
      "source": [
        "# Logical Operators Demonstration\n",
        "\n",
        "a = True\n",
        "b = False\n",
        "\n",
        "# AND operator: True if both conditions are True\n",
        "print(\"a and b:\", a and b)  # False\n",
        "\n",
        "# OR operator: True if at least one condition is True\n",
        "print(\"a or b:\", a or b)    # True\n",
        "\n",
        "# NOT operator: Inverts the boolean value\n",
        "print(\"not a:\", not a)      # False\n",
        "print(\"not b:\", not b)      # True\n",
        "\n",
        "# Using logical operators with comparison expressions\n",
        "x = 15\n",
        "y = 30\n",
        "\n",
        "print(\"\\nUsing logical operators with comparisons:\")\n",
        "print(\"x > 10 and y > 15:\", x > 10 and y > 15)   # True\n",
        "print(\"x > 20 or y > 35:\", x > 15 or y > 25)   # False\n",
        "print(\"not (x > y):\", not (x > y))"
      ],
      "metadata": {
        "id": "pLYbf7bJHmJe",
        "colab": {
          "base_uri": "https://localhost:8080/"
        },
        "outputId": "809eb6c9-aee9-4c7c-f0f4-03ec9ed327b7"
      },
      "execution_count": 3,
      "outputs": [
        {
          "output_type": "stream",
          "name": "stdout",
          "text": [
            "a and b: False\n",
            "a or b: True\n",
            "not a: False\n",
            "not b: True\n",
            "\n",
            "Using logical operators with comparisons:\n",
            "x > 10 and y > 15: True\n",
            "x > 20 or y > 35: True\n",
            "not (x > y): True\n"
          ]
        }
      ]
    },
    {
      "cell_type": "markdown",
      "source": [
        "9. Write a Python program to convert user input from string to integer, float, and boolean types."
      ],
      "metadata": {
        "id": "K1EKtiqEHoxS"
      }
    },
    {
      "cell_type": "code",
      "source": [
        "user_input = \"1\"\n",
        "\n",
        "# Convert to integer\n",
        "try:\n",
        "    int_value = int(user_input)\n",
        "    print(\"Integer:\", int_value)\n",
        "except ValueError:\n",
        "    print(\"Cannot convert to integer.\")\n",
        "\n",
        "# Convert to float\n",
        "try:\n",
        "    float_value = float(user_input)\n",
        "    print(\"Float:\", float_value)\n",
        "except ValueError:\n",
        "    print(\"Cannot convert to float.\")\n",
        "\n",
        "# Convert to boolean\n",
        "bool_value = bool(user_input.strip())  # Empty string is False, others are True\n",
        "print(\"Boolean:\", bool_value)\n"
      ],
      "metadata": {
        "id": "2hQWowbfHtNo",
        "colab": {
          "base_uri": "https://localhost:8080/"
        },
        "outputId": "e1efc2e9-5de1-4e34-e7d3-1e6db1bc4e40"
      },
      "execution_count": 4,
      "outputs": [
        {
          "output_type": "stream",
          "name": "stdout",
          "text": [
            "Integer: 1\n",
            "Float: 1.0\n",
            "Boolean: True\n"
          ]
        }
      ]
    },
    {
      "cell_type": "markdown",
      "source": [
        "10.  Write code to demonstrate type casting with list elements."
      ],
      "metadata": {
        "id": "_ypi1Z12Hv5w"
      }
    },
    {
      "cell_type": "code",
      "source": [
        "# List with string numbers\n",
        "str_list = [\"15\", \"20\", \"36\", \"43\"]\n",
        "\n",
        "# Convert each element to an integer using list comprehension\n",
        "int_list = [int(i) for i in str_list]\n",
        "\n",
        "print(\"Original list (strings):\", str_list)\n",
        "print(\"Converted list (integers):\", int_list)\n",
        "\n",
        "# Convert to float\n",
        "float_list = [float(i) for i in str_list]\n",
        "print(\"Converted list (floats):\", float_list)\n",
        "\n",
        "# Convert to boolean\n",
        "bool_list = [bool(i) for i in str_list]\n",
        "print(\"Converted list (booleans):\", bool_list)"
      ],
      "metadata": {
        "id": "Sdk58lOWHwqj",
        "colab": {
          "base_uri": "https://localhost:8080/"
        },
        "outputId": "a8579b99-6928-43d5-a246-97d2585407fc"
      },
      "execution_count": 5,
      "outputs": [
        {
          "output_type": "stream",
          "name": "stdout",
          "text": [
            "Original list (strings): ['15', '20', '36', '43']\n",
            "Converted list (integers): [15, 20, 36, 43]\n",
            "Converted list (floats): [15.0, 20.0, 36.0, 43.0]\n",
            "Converted list (booleans): [True, True, True, True]\n"
          ]
        }
      ]
    },
    {
      "cell_type": "markdown",
      "source": [
        "11. Write a program that checks if a number is positive, negative, or zero."
      ],
      "metadata": {
        "id": "41LUO09_Hyzo"
      }
    },
    {
      "cell_type": "code",
      "source": [
        "num = 2\n",
        "\n",
        "\n",
        "# Check if the number is positive, negative, or zero\n",
        "if num > 0:\n",
        "    print(\"The number is Positive.\")\n",
        "elif num < 0:\n",
        "    print(\"The number is Negative.\")\n",
        "else:\n",
        "    print(\"The number is Zero.\")"
      ],
      "metadata": {
        "id": "1v3bJ-GrH2BZ",
        "colab": {
          "base_uri": "https://localhost:8080/"
        },
        "outputId": "dff9ad0d-67d7-4e3c-dbc9-311a0bd36622"
      },
      "execution_count": 6,
      "outputs": [
        {
          "output_type": "stream",
          "name": "stdout",
          "text": [
            "The number is Positive.\n"
          ]
        }
      ]
    },
    {
      "cell_type": "markdown",
      "source": [
        "12.  Write a for loop to print numbers from 1 to 10."
      ],
      "metadata": {
        "id": "PvAHW1aeH4ir"
      }
    },
    {
      "cell_type": "code",
      "source": [
        "for i in range(1, 11):  # Loop from 1 to 10\n",
        "    print(i)"
      ],
      "metadata": {
        "id": "50fancO2H6Uj",
        "colab": {
          "base_uri": "https://localhost:8080/"
        },
        "outputId": "78685bd8-c4e2-4a92-bb52-983f15cd515b"
      },
      "execution_count": 7,
      "outputs": [
        {
          "output_type": "stream",
          "name": "stdout",
          "text": [
            "1\n",
            "2\n",
            "3\n",
            "4\n",
            "5\n",
            "6\n",
            "7\n",
            "8\n",
            "9\n",
            "10\n"
          ]
        }
      ]
    },
    {
      "cell_type": "markdown",
      "source": [
        "13. Write a Python program to find the sum of all even numbers between 1 and 50."
      ],
      "metadata": {
        "id": "P_0qADGjH8mF"
      }
    },
    {
      "cell_type": "code",
      "source": [
        "sum_even = 0\n",
        "\n",
        "# Loop through even numbers from 2 to 50\n",
        "for num in range(2, 51, 2):  # Step of 2 ensures only even numbers\n",
        "    sum_even += num  # Add even number to sum\n",
        "\n",
        "# Print the result\n",
        "print(\"Sum of even numbers from 1 to 50:\", sum_even)\n"
      ],
      "metadata": {
        "id": "vOHQyANcH_Mp",
        "colab": {
          "base_uri": "https://localhost:8080/"
        },
        "outputId": "85de215c-3ff2-42f6-f021-26a90e014a71"
      },
      "execution_count": 8,
      "outputs": [
        {
          "output_type": "stream",
          "name": "stdout",
          "text": [
            "Sum of even numbers from 1 to 50: 650\n"
          ]
        }
      ]
    },
    {
      "cell_type": "markdown",
      "source": [
        "14. Write a program to reverse a string using a while loop."
      ],
      "metadata": {
        "id": "ZJqT2dl-IBZb"
      }
    },
    {
      "cell_type": "code",
      "source": [
        "# Get user input\n",
        "string = \"bharti\"\n",
        "\n",
        "# Initialize variables\n",
        "reversed_string = \"\"\n",
        "i = len(string) - 1  # Start from the last index\n",
        "\n",
        "# Use a while loop to reverse the string\n",
        "while i >= 0:\n",
        "    reversed_string += string[i]  # Append characters in reverse order\n",
        "    i -= 1  # Move to the previous character\n",
        "\n",
        "# Print the reversed string\n",
        "print(\"Reversed string:\", reversed_string)"
      ],
      "metadata": {
        "id": "f7ACs5ojID08",
        "colab": {
          "base_uri": "https://localhost:8080/"
        },
        "outputId": "be8feff7-4e28-4162-aa57-8af9f9a6ce52"
      },
      "execution_count": 9,
      "outputs": [
        {
          "output_type": "stream",
          "name": "stdout",
          "text": [
            "Reversed string: itrahb\n"
          ]
        }
      ]
    },
    {
      "cell_type": "markdown",
      "source": [
        "15.  Write a Python program to calculate the factorial of a number provided by the user using a while loop."
      ],
      "metadata": {
        "id": "EUQMNqUrIGWz"
      }
    },
    {
      "cell_type": "code",
      "source": [
        "\n",
        "A = 5\n",
        "num = int(A)\n",
        "\n",
        "# Initialize factorial and counter\n",
        "factorial = 1\n",
        "i = num\n",
        "\n",
        "# Calculate factorial using while loop\n",
        "while i > 0:\n",
        "    factorial *= i  # Multiply factorial by current number\n",
        "    i -= 1  # Decrease the counter\n",
        "\n",
        "# Print the result\n",
        "print(\"Factorial of\", num, \"is:\", factorial)\n",
        "\n"
      ],
      "metadata": {
        "id": "AeW4X5QpIHrJ",
        "colab": {
          "base_uri": "https://localhost:8080/"
        },
        "outputId": "ac34e80c-d822-49c5-e278-867704cd2d65"
      },
      "execution_count": 10,
      "outputs": [
        {
          "output_type": "stream",
          "name": "stdout",
          "text": [
            "Factorial of 5 is: 120\n"
          ]
        }
      ]
    }
  ]
}